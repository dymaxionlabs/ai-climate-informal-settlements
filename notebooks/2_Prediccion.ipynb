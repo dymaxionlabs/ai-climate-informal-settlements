{
 "cells": [
  {
   "cell_type": "code",
   "execution_count": null,
   "metadata": {},
   "outputs": [],
   "source": [
    "!pip install pysatproc\n",
    "!pip install unetseg"
   ]
  },
  {
   "cell_type": "code",
   "execution_count": null,
   "metadata": {},
   "outputs": [],
   "source": [
    "!pip install --force-reinstall numpy==1.20"
   ]
  },
  {
   "cell_type": "code",
   "execution_count": null,
   "metadata": {},
   "outputs": [],
   "source": [
    "!pip install unetseg"
   ]
  },
  {
   "cell_type": "markdown",
   "metadata": {},
   "source": [
    "# 2_ Predicción\n",
    "\n",
    "## Generación del data set de predicción"
   ]
  },
  {
   "cell_type": "markdown",
   "metadata": {},
   "source": [
    "Descarga las imagenes del bucket"
   ]
  },
  {
   "cell_type": "code",
   "execution_count": null,
   "metadata": {},
   "outputs": [],
   "source": [
    "PATH_s1_images_train = \"\"\n",
    "\n",
    "!mkdir -p $PATH_s1_images_train"
   ]
  },
  {
   "cell_type": "code",
   "execution_count": null,
   "metadata": {},
   "outputs": [],
   "source": [
    "bucket = \"gs://\" \n",
    "!gsutil -m cp -r $bucket $PATH_s1_images_train"
   ]
  },
  {
   "cell_type": "code",
   "execution_count": null,
   "metadata": {},
   "outputs": [],
   "source": [
    "!gdalbuildvrt *.vrt *.tif"
   ]
  },
  {
   "cell_type": "markdown",
   "metadata": {},
   "source": [
    "### Satproc\n",
    "\n",
    "Con esta herramienta genereamos un dataset de imágenes de predicción que, a diferencia del de entrenamiento, solo contiene imágenes."
   ]
  },
  {
   "cell_type": "markdown",
   "metadata": {},
   "source": [
    "Pasamos la ruta de las imágenes de predicción y la ruta donde queremos que se guarde el resultado.\n",
    "\n"
   ]
  },
  {
   "cell_type": "code",
   "execution_count": null,
   "metadata": {},
   "outputs": [],
   "source": [
    "!ls ../images_immap/images_s1/s1_2021_edited/zonas_prediccion/"
   ]
  },
  {
   "cell_type": "code",
   "execution_count": null,
   "metadata": {},
   "outputs": [],
   "source": [
    "size =160\n",
    "step_size = size\n",
    "path_to_files = \".vrt\"\n",
    "output_folder = \"../dataset/data_predict/\"+str(size)+\"_\"+str(step_size)+\"/\"\n",
    "vector_file_aoi = \"../data/shp/.geojson\" "
   ]
  },
  {
   "cell_type": "markdown",
   "metadata": {},
   "source": [
    "*Obs*: Dado que aquí nos interesa predecir sobre toda la imágen y por ende no tener overlaps,  *step_size* debe ser igual a *size*."
   ]
  },
  {
   "cell_type": "code",
   "execution_count": null,
   "metadata": {},
   "outputs": [],
   "source": [
    "#!satproc_extract_chips --help"
   ]
  },
  {
   "cell_type": "code",
   "execution_count": null,
   "metadata": {
    "scrolled": true
   },
   "outputs": [],
   "source": [
    "!satproc_extract_chips \\\n",
    "                $path_to_files \\\n",
    "                -o  $output_folder \\\n",
    "                --size $size \\\n",
    "                --step-size $step_size \\\n",
    "                --aoi $vector_file_aoi \\\n",
    "                --rescale \\\n",
    "                --rescale-mode values --min -15 --max 5"
   ]
  },
  {
   "cell_type": "markdown",
   "metadata": {},
   "source": [
    "## Prediccion"
   ]
  },
  {
   "cell_type": "code",
   "execution_count": null,
   "metadata": {},
   "outputs": [],
   "source": [
    "from unetseg.predict import PredictConfig, predict\n",
    "from unetseg.evaluate import plot_data_results\n",
    "import os"
   ]
  },
  {
   "cell_type": "markdown",
   "metadata": {},
   "source": [
    "Definimos la configuración para la predicción. Debemos pasar la ruta de las imágenes en el dataset de predicción, que es la ruta de salida de la línea anterior, y la correspondiente al modelo que entrenamos."
   ]
  },
  {
   "cell_type": "code",
   "execution_count": null,
   "metadata": {},
   "outputs": [],
   "source": [
    "model = \"UNet_160x160_spe100_3N_spe600_colombia_modelo4_vhvv2.h5\"\n",
    "predict_config = PredictConfig(\n",
    "                                    images_path=os.path.join('../dataset/data_predict//',\"\",\"\",str(size)+'_'+str(step_size)), # ruta a las imagenes sobre las cuales queremos predecir\n",
    "                                    results_path=os.path.join('../dataset/data_results//','','','',str(size)+'_'+str(step_size)), # ruta de destino para nuestra predicción\n",
    "                                    batch_size=16,\n",
    "                                    model_path=os.path.join('../data/weights',model),  #  ruta al modelo (.h5)\n",
    "                                    height=160,\n",
    "                                    width=160,\n",
    "                                    n_channels=3,\n",
    "                                    n_classes=1,\n",
    "                                    class_weights= [1])\n",
    "          "
   ]
  },
  {
   "cell_type": "markdown",
   "metadata": {},
   "source": [
    "A continuación ejecutamos la predicción ."
   ]
  },
  {
   "cell_type": "code",
   "execution_count": null,
   "metadata": {},
   "outputs": [],
   "source": [
    "predict(predict_config)  # Ejecuta la predicción"
   ]
  },
  {
   "cell_type": "markdown",
   "metadata": {},
   "source": [
    "Podemos ver algunos resultados preliminares de la predicción. A la izquierda se encuentra la imágen y a la derecha, la predicción."
   ]
  },
  {
   "cell_type": "code",
   "execution_count": null,
   "metadata": {
    "scrolled": false
   },
   "outputs": [],
   "source": [
    "plot_data_results(num_samples=2, fig_size=(2, 2), predict_config=predict_config, img_ch =2, n_bands=3)"
   ]
  },
  {
   "cell_type": "markdown",
   "metadata": {},
   "source": [
    "## Post procesamiento\n",
    "\n",
    "En esta etapa se aplican los siguientes métodos de post-procesamiento a los resultados de la predicción realizada por el modelo:\n",
    "\n",
    "* Filtrado por umbral\n",
    "* Poligonizado"
   ]
  },
  {
   "cell_type": "code",
   "execution_count": null,
   "metadata": {},
   "outputs": [],
   "source": [
    "from satproc.postprocess.polygonize import polygonize \n",
    "from satproc.filter import filter_by_max_prob"
   ]
  },
  {
   "cell_type": "markdown",
   "metadata": {},
   "source": [
    "## Filtrado por umbral\n",
    "En este proceso se realiza un filtrado de las imágenes mediante la aplicación de un umbral sobre los valores de los rásteres, que en este caso representan la probabilidad (valores entre 0 y 1), quedandonos así con las de mayor precisión."
   ]
  },
  {
   "cell_type": "code",
   "execution_count": null,
   "metadata": {},
   "outputs": [],
   "source": [
    "thr=5\n",
    "size=160\n",
    "input_dir = pred_slope\n",
    "folder = os.path.join('../dataset/data_results/'+str(size)+'_'+str(step_size)) # ruta de destino para nuestra predicción\n",
    "                                 \n",
    "!mkdir -p  $folder"
   ]
  },
  {
   "cell_type": "code",
   "execution_count": null,
   "metadata": {},
   "outputs": [],
   "source": [
    "print(pred_slope)"
   ]
  },
  {
   "cell_type": "code",
   "execution_count": null,
   "metadata": {},
   "outputs": [],
   "source": [
    "filter_by_max_prob(input_dir  = input_dir,\n",
    "                   output_dir = folder,\n",
    "                   threshold  = 0.5)"
   ]
  },
  {
   "cell_type": "markdown",
   "metadata": {},
   "source": [
    "## Poligonizado\n",
    "La siguiente función aplica una rutina de poligonización sobre los resultados de la predicción del modelo y genera un archivo vectorial en formato GeoPackage (GPKG). La rutina aplica `gdal_polygonize.py` a cada chip resultado generando un GPKG para cada chip, y luego une todos estos archivos en uno solo, de manera eficiente.\n",
    "\n"
   ]
  },
  {
   "cell_type": "code",
   "execution_count": null,
   "metadata": {},
   "outputs": [],
   "source": [
    "input_path = \"../dataset/data_results//tif/\"\n",
    "thr = '03'\n",
    "output_path = '../dataset/data_results/60x160_thr'+str(thr)+'_woutmontains.gpkg'\n",
    "\n",
    "print(input_path)\n",
    "polygonize(threshold=0.3, input_dir=input_path,      output=output_path)"
   ]
  },
  {
   "cell_type": "code",
   "execution_count": null,
   "metadata": {},
   "outputs": [],
   "source": [
    "src_file =output_path\n",
    "dst_file = output_path[:-5] + '_utm.gpkg'\n",
    "print(src_file)\n",
    "print(dst_file)\n",
    "!ogr2ogr -s_srs EPSG:4326 -t_srs EPSG:32720 -f 'GPKG' $dst_file $src_file"
   ]
  },
  {
   "cell_type": "code",
   "execution_count": null,
   "metadata": {},
   "outputs": [],
   "source": [
    "!ogrinfo -al $dst_file | head -n25"
   ]
  },
  {
   "cell_type": "code",
   "execution_count": null,
   "metadata": {},
   "outputs": [],
   "source": [
    "min_area = 10000\n",
    "\n",
    "input_path = dst_file\n",
    "output_path = dst_file[:-5]+ \"_up10000.gpkg\"\n",
    "\n",
    "tabla =  \"modelo3_5_municipios_3D_VHVV2_s1_2021_160x160_thr03_woutmontains\"\n",
    "print(tabla)\n",
    "print(input_path)\n",
    "print(output_path)"
   ]
  },
  {
   "cell_type": "code",
   "execution_count": null,
   "metadata": {},
   "outputs": [],
   "source": [
    "\n",
    "!ogr2ogr \\\n",
    "    -t_srs EPSG:32720 \\\n",
    "    -f \"GPKG\" \\\n",
    "    -sql \"SELECT * FROM $tabla m WHERE (ST_Area(geom) > $min_area)\" \\\n",
    "    -dialect SQLITE \\\n",
    "    -nln results \\\n",
    "    $output_path \\\n",
    "    $input_path"
   ]
  }
 ],
 "metadata": {
  "colab": {
   "authorship_tag": "ABX9TyNKlws8+6PcuvJrSWdSmTxJ",
   "include_colab_link": true,
   "name": "2 - Entrenamiento",
   "provenance": []
  },
  "kernelspec": {
   "display_name": "Python 3",
   "language": "python",
   "name": "python3"
  },
  "language_info": {
   "codemirror_mode": {
    "name": "ipython",
    "version": 3
   },
   "file_extension": ".py",
   "mimetype": "text/x-python",
   "name": "python",
   "nbconvert_exporter": "python",
   "pygments_lexer": "ipython3",
   "version": "3.8.5"
  },
  "toc": {
   "base_numbering": 1,
   "nav_menu": {},
   "number_sections": true,
   "sideBar": true,
   "skip_h1_title": false,
   "title_cell": "Table of Contents",
   "title_sidebar": "Contents",
   "toc_cell": false,
   "toc_position": {},
   "toc_section_display": true,
   "toc_window_display": false
  }
 },
 "nbformat": 4,
 "nbformat_minor": 4
}
